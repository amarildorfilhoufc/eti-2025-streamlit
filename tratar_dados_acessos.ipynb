{
 "cells": [
  {
   "cell_type": "code",
   "execution_count": 6,
   "id": "e319f7e8",
   "metadata": {},
   "outputs": [
    {
     "name": "stdout",
     "output_type": "stream",
     "text": [
      "   user_id firstname  lastname  \\\n",
      "0        2  Hellânio  Ferreira   \n",
      "1        2  Hellânio  Ferreira   \n",
      "2        2  Hellânio  Ferreira   \n",
      "3        2  Hellânio  Ferreira   \n",
      "4        2  Hellânio  Ferreira   \n",
      "\n",
      "                                         course_name         access_time  \n",
      "0  [NFCE_01] Formação Continuada para Equipes Téc... 2025-03-31 11:16:41  \n",
      "1  [NFCE_01] Formação Continuada para Equipes Téc... 2025-03-31 11:17:48  \n",
      "2  [NFCE_01] Formação Continuada para Equipes Téc... 2025-03-31 11:17:59  \n",
      "3  [NFCE_01] Formação Continuada para Equipes Téc... 2025-03-31 11:18:10  \n",
      "4  [NFCE_01] Formação Continuada para Equipes Téc... 2025-03-31 11:19:38  \n"
     ]
    }
   ],
   "source": [
    "import pandas as pd\n",
    "\n",
    "# Lê o arquivo Excel\n",
    "arquivo = 'dados_acessos.xlsx'\n",
    "dados = pd.read_excel(arquivo)\n",
    "\n",
    "# Filtra os cursos que começam com as iniciais desejadas\n",
    "iniciais = ['[NFPE', '[NFPI', '[NFMA', '[NFCE']\n",
    "dados_filtrados = dados[dados['course_name'].str.startswith(tuple(iniciais))]\n",
    "\n",
    "# Descarta o restante dos dados\n",
    "dados_filtrados.reset_index(drop=True, inplace=True)\n",
    "\n",
    "# Salva o DataFrame filtrado em um novo arquivo Excel\n",
    "dados_filtrados.to_excel('dados_acessos.xlsx', index=False)\n",
    "\n",
    "# Exibe as primeiras linhas do DataFrame filtrado\n",
    "print(dados_filtrados.head())"
   ]
  }
 ],
 "metadata": {
  "kernelspec": {
   "display_name": "Python 3",
   "language": "python",
   "name": "python3"
  },
  "language_info": {
   "codemirror_mode": {
    "name": "ipython",
    "version": 3
   },
   "file_extension": ".py",
   "mimetype": "text/x-python",
   "name": "python",
   "nbconvert_exporter": "python",
   "pygments_lexer": "ipython3",
   "version": "3.12.4"
  }
 },
 "nbformat": 4,
 "nbformat_minor": 5
}
